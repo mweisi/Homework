{
 "cells": [
  {
   "cell_type": "markdown",
   "metadata": {},
   "source": [
    "# Project 4\n",
    "\n",
    "In this project, you will summarize and present your analysis from Projects 1-3."
   ]
  },
  {
   "cell_type": "markdown",
   "metadata": {},
   "source": [
    "### Intro: Write a problem Statement/ Specific Aim for this project"
   ]
  },
  {
   "cell_type": "markdown",
   "metadata": {},
   "source": [
    "Answer: We're seeking to understand the relationship between students' GPA, GRE, prestige of undergraduate school, and likelihood of admission to graduate school based on admissions.csv. Exploring this relationship will allow us to infer which factors drive admission as well as predict whether a student will be admitted or not."
   ]
  },
  {
   "cell_type": "markdown",
   "metadata": {},
   "source": [
    "### Dataset:  Write up a description of your data and any cleaning that was completed"
   ]
  },
  {
   "cell_type": "markdown",
   "metadata": {},
   "source": [
    "Answer: The data consists of 400 rows of student admits (1/0 for yes/no, binary categorical), GPA (continuous, 0-4), GRE (discrete, 0-800), and undergraduate school prestige (discrete, 1-4). In order to clean the data, I'm going to drop any rows with missing data and create dummy variables for the categorical prestige data. This will prepare the data for logistic regression."
   ]
  },
  {
   "cell_type": "code",
   "execution_count": 72,
   "metadata": {
    "collapsed": false
   },
   "outputs": [
    {
     "data": {
      "text/html": [
       "<div>\n",
       "<table border=\"1\" class=\"dataframe\">\n",
       "  <thead>\n",
       "    <tr style=\"text-align: right;\">\n",
       "      <th></th>\n",
       "      <th>admit</th>\n",
       "      <th>gre</th>\n",
       "      <th>gpa</th>\n",
       "      <th>prestige</th>\n",
       "    </tr>\n",
       "  </thead>\n",
       "  <tbody>\n",
       "  </tbody>\n",
       "</table>\n",
       "</div>"
      ],
      "text/plain": [
       "Empty DataFrame\n",
       "Columns: [admit, gre, gpa, prestige]\n",
       "Index: []"
      ]
     },
     "execution_count": 72,
     "metadata": {},
     "output_type": "execute_result"
    }
   ],
   "source": [
    "%matplotlib inline\n",
    "import matplotlib.pyplot as plt\n",
    "import pandas as pd\n",
    "import statsmodels.api as sm\n",
    "import pylab as pl\n",
    "import numpy as np\n",
    "\n",
    "df_raw = pd.read_csv(\"../assets/admissions.csv\")\n",
    "df = df_raw.dropna() \n",
    "df[pd.isnull(df).any(axis=1)]   #Checking that all of the NA values were dropped"
   ]
  },
  {
   "cell_type": "markdown",
   "metadata": {
    "collapsed": true
   },
   "source": [
    "### Demo: Provide a table that explains the data by admission status"
   ]
  },
  {
   "cell_type": "markdown",
   "metadata": {},
   "source": [
    "Mean (STD) or counts by admission status for each variable \n",
    "\n",
    "| Not Admitted | Admitted\n",
    "---| ---|---\n",
    "GPA | 3.35 (.38)  | 3.49 (.37)\n",
    "GRE | 573.58 (116.05) | 618.57 (109.26)\n",
    "Prestige 1 | 28 (46%) | 33 (54%)\n",
    "Prestige 2 | 95 (64%) | 53 (36%)\n",
    "Prestige 3 | 93 (77%) | 28 (23%)\n",
    "Prestige 4 | 55 (82%) | 12 (18%)"
   ]
  },
  {
   "cell_type": "code",
   "execution_count": 73,
   "metadata": {
    "collapsed": false
   },
   "outputs": [
    {
     "name": "stdout",
     "output_type": "stream",
     "text": [
      "Prestige 1 admit frequency:  admit    0.540984\n",
      "dtype: float64\n",
      "Prestige 1 non-admit frequency:  admit    0.459016\n",
      "dtype: float64\n",
      "Prestige 2 admit frequency:  admit    0.358108\n",
      "dtype: float64\n",
      "Prestige 2 non-admit frequency:  admit    0.641892\n",
      "dtype: float64\n",
      "Prestige 3 admit frequency:  admit    0.231405\n",
      "dtype: float64\n",
      "Prestige 3 non-admit frequency:  admit    0.768595\n",
      "dtype: float64\n",
      "Prestige 4 admit frequency:  admit    0.179104\n",
      "dtype: float64\n",
      "Prestige 4 non-admit frequency:  admit    0.820896\n",
      "dtype: float64\n"
     ]
    }
   ],
   "source": [
    "# Below code calculates the frequency of being admitted/not admitted based on alma mater prestige level.\n",
    "rank1 = df.loc[df['prestige'] == 1, ['admit']].count(axis=0)\n",
    "rank1_Adm = df.loc[df['prestige'] == 1, ['admit']].sum(axis=0)\n",
    "rank1_NonAdm = rank1 - rank1_Adm\n",
    "\n",
    "rank2 = df.loc[df['prestige'] == 2, ['admit']].count(axis=0)\n",
    "rank2_Adm = df.loc[df['prestige'] == 2, ['admit']].sum(axis=0)\n",
    "rank2_NonAdm = rank2 - rank2_Adm\n",
    "\n",
    "rank3 = df.loc[df['prestige'] == 3, ['admit']].count(axis=0)\n",
    "rank3_Adm = df.loc[df['prestige'] == 3, ['admit']].sum(axis=0)\n",
    "rank3_NonAdm = rank3 - rank3_Adm\n",
    "\n",
    "rank4 = df.loc[df['prestige'] == 4, ['admit']].count(axis=0)\n",
    "rank4_Adm = df.loc[df['prestige'] == 4, ['admit']].sum(axis=0)\n",
    "rank4_NonAdm = rank4 - rank4_Adm\n",
    "\n",
    "print \"Prestige 1 admit frequency: \", rank1_Adm/rank1\n",
    "print \"Prestige 1 non-admit frequency: \", rank1_NonAdm/rank1\n",
    "\n",
    "print \"Prestige 2 admit frequency: \", rank2_Adm/rank2\n",
    "print \"Prestige 2 non-admit frequency: \", rank2_NonAdm/rank2\n",
    "\n",
    "print \"Prestige 3 admit frequency: \", rank3_Adm/rank3\n",
    "print \"Prestige 3 non-admit frequency: \", rank3_NonAdm/rank3\n",
    "\n",
    "print \"Prestige 4 admit frequency: \", rank4_Adm/rank4\n",
    "print \"Prestige 4 non-admit frequency: \", rank4_NonAdm/rank4"
   ]
  },
  {
   "cell_type": "code",
   "execution_count": 74,
   "metadata": {
    "collapsed": false
   },
   "outputs": [
    {
     "data": {
      "text/html": [
       "<div>\n",
       "<table border=\"1\" class=\"dataframe\">\n",
       "  <thead>\n",
       "    <tr style=\"text-align: right;\">\n",
       "      <th></th>\n",
       "      <th>gre</th>\n",
       "      <th>gpa</th>\n",
       "      <th>prestige</th>\n",
       "    </tr>\n",
       "    <tr>\n",
       "      <th>admit</th>\n",
       "      <th></th>\n",
       "      <th></th>\n",
       "      <th></th>\n",
       "    </tr>\n",
       "  </thead>\n",
       "  <tbody>\n",
       "    <tr>\n",
       "      <th>0</th>\n",
       "      <td>573.579336</td>\n",
       "      <td>3.347159</td>\n",
       "      <td>2.645756</td>\n",
       "    </tr>\n",
       "    <tr>\n",
       "      <th>1</th>\n",
       "      <td>618.571429</td>\n",
       "      <td>3.489206</td>\n",
       "      <td>2.150794</td>\n",
       "    </tr>\n",
       "  </tbody>\n",
       "</table>\n",
       "</div>"
      ],
      "text/plain": [
       "              gre       gpa  prestige\n",
       "admit                                \n",
       "0      573.579336  3.347159  2.645756\n",
       "1      618.571429  3.489206  2.150794"
      ]
     },
     "execution_count": 74,
     "metadata": {},
     "output_type": "execute_result"
    }
   ],
   "source": [
    "df.groupby(['admit']).mean()"
   ]
  },
  {
   "cell_type": "code",
   "execution_count": 75,
   "metadata": {
    "collapsed": false
   },
   "outputs": [
    {
     "data": {
      "text/html": [
       "<div>\n",
       "<table border=\"1\" class=\"dataframe\">\n",
       "  <thead>\n",
       "    <tr style=\"text-align: right;\">\n",
       "      <th></th>\n",
       "      <th>gre</th>\n",
       "      <th>gpa</th>\n",
       "      <th>prestige</th>\n",
       "    </tr>\n",
       "    <tr>\n",
       "      <th>admit</th>\n",
       "      <th></th>\n",
       "      <th></th>\n",
       "      <th></th>\n",
       "    </tr>\n",
       "  </thead>\n",
       "  <tbody>\n",
       "    <tr>\n",
       "      <th>0</th>\n",
       "      <td>116.052798</td>\n",
       "      <td>0.376355</td>\n",
       "      <td>0.918922</td>\n",
       "    </tr>\n",
       "    <tr>\n",
       "      <th>1</th>\n",
       "      <td>109.257233</td>\n",
       "      <td>0.371655</td>\n",
       "      <td>0.921455</td>\n",
       "    </tr>\n",
       "  </tbody>\n",
       "</table>\n",
       "</div>"
      ],
      "text/plain": [
       "              gre       gpa  prestige\n",
       "admit                                \n",
       "0      116.052798  0.376355  0.918922\n",
       "1      109.257233  0.371655  0.921455"
      ]
     },
     "execution_count": 75,
     "metadata": {},
     "output_type": "execute_result"
    }
   ],
   "source": [
    "df.groupby(['admit']).std()"
   ]
  },
  {
   "cell_type": "markdown",
   "metadata": {},
   "source": [
    "### Methods: Write up the methods used in your analysis"
   ]
  },
  {
   "cell_type": "code",
   "execution_count": 76,
   "metadata": {
    "collapsed": true
   },
   "outputs": [],
   "source": [
    "df = pd.get_dummies(df,columns=['prestige'],drop_first=True)"
   ]
  },
  {
   "cell_type": "markdown",
   "metadata": {},
   "source": [
    "Answer: \n",
    "1.) Create dummy variables for the prestige categorical values in order to prepare them for logistic regression. \n",
    "2.) Calculate and examine the characteristics of the data. This includes calculating/building:\n",
    "        -- Mean, standard deviation, range, and quartiles of the data\n",
    "        -- Plotting histograms/boxplots of the variables\n",
    "        -- Plotting scatter plots of independent variables on dependent ones to determine if transformations are required.\n",
    "3.) Test variables for multi-collinearity, which if present may affect confidence in model and conclusions reached. We used correlation tables to identify possible collinearity.\n",
    "4.) Fit logistic regression model to the data. Regress admittance on GRE, GPA, and prestige variables.\n",
    "5.) Examine test statistics to identify which predictor variables are significant, relying upon odds ratios and confidence intervals to determine their effect on the outcome variable."
   ]
  },
  {
   "cell_type": "markdown",
   "metadata": {},
   "source": [
    "### Results: Write up your results"
   ]
  },
  {
   "cell_type": "markdown",
   "metadata": {},
   "source": [
    "Answer: All of the explanatory variables (GPA, GRE, and prestige) were significant according to our regression model. The positive coefficients on these covariates means that increasing GPA, GRE, and prestige rank (higher meaning going from prestige 4 toward prestige 1 in this case) is positively related to chances of admittance to graduate school. In addition, the odds ratios that we calculated for school prestige indicate that students who go to better schools tend to have higher admittance rates, ceteris paribus (keeping all else the same)."
   ]
  },
  {
   "cell_type": "markdown",
   "metadata": {},
   "source": [
    "### Visuals: Provide a table or visualization of these results"
   ]
  },
  {
   "cell_type": "markdown",
   "metadata": {},
   "source": [
    "Mean (STD) or counts by admission status for each variable \n",
    "\n",
    "| 2.5% | 97.5% | OR\n",
    "---| ---|---|---|\n",
    "GRE | 1.000074 | 1.004372 | 1.002221 |\n",
    "GPA | 1.136120  | 4.183113 | 2.180027 |\n",
    "Prestige 2 | 0.272168 | 0.942767 | 0.506548 |\n",
    "Prestige 3 | 0.133377 | 0.515419 | 0.262192 |\n",
    "Prestige 4 | 0.093329 | 0.479411 | 0.211525 |\n",
    "Intercept | 0.002207 | 0.194440 | 0.020716 |"
   ]
  },
  {
   "cell_type": "markdown",
   "metadata": {},
   "source": [
    "### Discussion: Write up your discussion and future steps"
   ]
  },
  {
   "cell_type": "markdown",
   "metadata": {},
   "source": [
    "Answer: We could extend this analysis by testing it on an out-of-sample data set. Cross-validation could be utilized to perform this testing with less data than might otherwise be necessary. We could also look to add other potential variables in order to increase the model's accuracy. In doing so though, we run the risk of increasing complexity to the point of over-fitting, introducing variance to the model. As the model incorporates new variables, we must \"penalize\" this increase in complexity through regularizing the new regression equation. Some potential additional predictors that could be included are which type of graduate school program the applicant is applying to, the prevalence of any family members that attended the school, as well as extracurricular activities the applicant was involved with."
   ]
  }
 ],
 "metadata": {
  "kernelspec": {
   "display_name": "Python 2",
   "language": "python",
   "name": "python2"
  },
  "language_info": {
   "codemirror_mode": {
    "name": "ipython",
    "version": 2
   },
   "file_extension": ".py",
   "mimetype": "text/x-python",
   "name": "python",
   "nbconvert_exporter": "python",
   "pygments_lexer": "ipython2",
   "version": "2.7.13"
  }
 },
 "nbformat": 4,
 "nbformat_minor": 0
}
